{
 "cells": [
  {
   "cell_type": "code",
   "execution_count": 1,
   "metadata": {},
   "outputs": [],
   "source": [
    "def Plot_Parameters(fieldname, fieldid, tab, season):\n",
    "    \"\"\" Plot simulation\n",
    "    parameters ('X1', 'Color', 'DayMax', 'z')\n",
    "    Input\n",
    "    ---------\n",
    "    fieldname: (DD or WFD)\n",
    "    fieldid: (as given by OpSim)\n",
    "    tab: recarray of parameters\n",
    "    season: season\n",
    "\n",
    "    Returns\n",
    "    ---------\n",
    "    Plot (X1,Color,DayMax,SN_Rate)\n",
    "    \"\"\"\n",
    "\n",
    "    idx = tab['season'] == season\n",
    "    sel = tab[idx]\n",
    "    thesize = 15\n",
    "    toplot = ['X1', 'Color', 'DayMax', 'z']\n",
    "    fig, ax = plt.subplots(ncols=2, nrows=2, figsize=(10, 9))\n",
    "    fig.suptitle(fieldname+'  - Fieldid '+str(fieldid) +\n",
    "                 ' - season '+str(season+1), fontsize=thesize)\n",
    "\n",
    "    for i, var in enumerate(toplot):\n",
    "        ix = int(i/2)\n",
    "        iy = i % 2\n",
    "        axis = ax[ix][iy]\n",
    "        if var != 'z':\n",
    "            axis.hist(sel[var])\n",
    "        axis.set_xlabel(var, fontsize=20)\n",
    "        axis.set_ylabel('Number of entries', fontsize=thesize)\n",
    "        axis.tick_params(axis='x', labelsize=thesize)\n",
    "        axis.tick_params(axis='y', labelsize=thesize)\n",
    "        if var == 'z':\n",
    "            n, bins, patches = axis.hist(sel[var])\n",
    "            bin_center = (bins[:-1] + bins[1:]) / 2\n",
    "            dz = bins[1]-bins[0]\n",
    "            sn_rate = SN_Rate(rate='Perrett', H0=72, Om0=0.3, survey_area=9.6)\n",
    "            zmin = np.min(sel['z'])\n",
    "            zmax = np.max(sel['z'])\n",
    "            duration = np.max(sel['DayMax'])-np.min(sel['DayMax'])\n",
    "            zz, rate, err_rate, nsn, err_nsn = sn_rate(\n",
    "                zmin=zmin-dz/2., zmax=zmax, dz=dz, duration=duration)\n",
    "            axis.plot(zz, np.cumsum(nsn))\n",
    "            axis.plot(bin_center, np.cumsum(n))\n",
    "    plt.show()\n"
   ]
  },
  {
   "cell_type": "code",
   "execution_count": 4,
   "metadata": {},
   "outputs": [
    {
     "name": "stdout",
     "output_type": "stream",
     "text": [
      "KeysView(<HDF5 file \"Simu_WFD_0.hdf5\" (mode r)>)\n"
     ]
    }
   ],
   "source": [
    "import h5py\n",
    "\n",
    "filename = '/home/philippe/LSST/SN_pipelines/SN_Catalog_Simulations/Output_Simu/Simu_WFD_0.hdf5'\n",
    "f = h5py.File(filename, 'r')\n",
    "print(f.keys())\n"
   ]
  },
  {
   "cell_type": "code",
   "execution_count": null,
   "metadata": {},
   "outputs": [],
   "source": []
  }
 ],
 "metadata": {
  "kernelspec": {
   "display_name": "Python 3",
   "language": "python",
   "name": "python3"
  },
  "language_info": {
   "codemirror_mode": {
    "name": "ipython",
    "version": 3
   },
   "file_extension": ".py",
   "mimetype": "text/x-python",
   "name": "python",
   "nbconvert_exporter": "python",
   "pygments_lexer": "ipython3",
   "version": "3.6.2"
  }
 },
 "nbformat": 4,
 "nbformat_minor": 2
}
