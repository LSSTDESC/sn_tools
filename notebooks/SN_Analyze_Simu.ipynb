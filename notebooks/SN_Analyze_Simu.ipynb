{
 "cells": [
  {
   "cell_type": "code",
   "execution_count": 11,
   "metadata": {},
   "outputs": [],
   "source": [
    "def Plot_Parameters(fieldname, fieldid, tab, season):\n",
    "    \"\"\" Plot simulation\n",
    "    parameters ('X1', 'Color', 'DayMax', 'z')\n",
    "    Input\n",
    "    ---------\n",
    "    fieldname: (DD or WFD)\n",
    "    fieldid: (as given by OpSim)\n",
    "    tab: recarray of parameters\n",
    "    season: season\n",
    "\n",
    "    Returns\n",
    "    ---------\n",
    "    Plot (X1,Color,DayMax,SN_Rate)\n",
    "    \"\"\"\n",
    "\n",
    "    idx = tab['season'] == season\n",
    "    sel = tab[idx]\n",
    "    thesize = 15\n",
    "    toplot = ['X1', 'Color', 'DayMax', 'z']\n",
    "    fig, ax = plt.subplots(ncols=2, nrows=2, figsize=(10, 9))\n",
    "    fig.suptitle(fieldname+'  - Fieldid '+str(fieldid) +\n",
    "                 ' - season '+str(season+1), fontsize=thesize)\n",
    "\n",
    "    for i, var in enumerate(toplot):\n",
    "        ix = int(i/2)\n",
    "        iy = i % 2\n",
    "        axis = ax[ix][iy]\n",
    "        i#f var != 'z':\n",
    "        axis.hist(sel[var]) #bins=len(sel[var]))\n",
    "        axis.set_xlabel(var, fontsize=20)\n",
    "        axis.set_ylabel('Number of entries', fontsize=thesize)\n",
    "        axis.tick_params(axis='x', labelsize=thesize)\n",
    "        axis.tick_params(axis='y', labelsize=thesize)\n",
    "        \"\"\"\n",
    "        if var == 'z':\n",
    "            n, bins, patches = axis.hist(sel[var])\n",
    "            bin_center = (bins[:-1] + bins[1:]) / 2\n",
    "            dz = bins[1]-bins[0]\n",
    "            sn_rate = SN_Rate(rate='Perrett', H0=72, Om0=0.3)\n",
    "            zmin = np.min(sel['z'])\n",
    "            zmax = np.max(sel['z'])\n",
    "            duration = np.max(sel['DayMax'])-np.min(sel['DayMax'])\n",
    "            zz, rate, err_rate, nsn, err_nsn = sn_rate(\n",
    "                zmin=zmin-dz/2., zmax=zmax, dz=dz, duration=duration,\n",
    "                survey_area=np.sum(sel['survey_area']))\n",
    "            axis.plot(zz, np.cumsum(nsn))\n",
    "        \"\"\"\n",
    "    plt.show()\n"
   ]
  },
  {
   "cell_type": "code",
   "execution_count": 12,
   "metadata": {},
   "outputs": [
    {
     "name": "stdout",
     "output_type": "stream",
     "text": [
      "KeysView(<HDF5 file \"Simu_WFD_0.hdf5\" (mode r)>)\n"
     ]
    }
   ],
   "source": [
    "import h5py\n",
    "import pylab as plt\n",
    "from astropy.table import Table\n",
    "from SN_Rate import SN_Rate\n",
    "import numpy as np\n",
    "\n",
    "filename = '/home/philippe/LSST/SN_pipelines/Output_Simu/Simu_WFD_0.hdf5'\n",
    "f = h5py.File(filename, 'r')\n",
    "print(f.keys())\n"
   ]
  },
  {
   "cell_type": "code",
   "execution_count": 13,
   "metadata": {},
   "outputs": [
    {
     "name": "stdout",
     "output_type": "stream",
     "text": [
      "57791 [('SNID', '<i4'), ('Ra', '<f8'), ('Dec', '<f8'), ('DayMax', '<f8'), ('X1', '<f8'), ('Color', '<f8'), ('z', '<f8'), ('id_hdf5', '<i4'), ('season', '<i4'), ('fieldname', 'S3'), ('fieldid', '<i8'), ('n_lc_points', '<i8'), ('survey_area', '<f8')]\n",
      "fieldname fieldid\n",
      "--------- -------\n",
      "      WFD   22160\n",
      "      WFD   22160\n",
      "      WFD   22160\n",
      "      WFD   22160\n",
      "      WFD   22160\n",
      "      WFD   22231\n",
      "      WFD   22231\n",
      "      WFD   22231\n",
      "      WFD   22231\n",
      "      WFD   22262\n",
      "      ...     ...\n",
      "      WFD   27705\n",
      "      WFD   27705\n",
      "      WFD   27705\n",
      "      WFD   27705\n",
      "      WFD   27705\n",
      "      WFD   27705\n",
      "      WFD   27705\n",
      "      WFD   27705\n",
      "      WFD   27705\n",
      "      WFD   27705\n",
      "      WFD   27705\n",
      "Length = 57791 rows\n",
      "Color\n",
      "-----\n",
      "-0.05\n",
      " 0.05\n",
      "  0.0\n",
      " -0.1\n",
      "  0.0\n",
      "  0.1\n",
      "-0.15\n",
      "  0.0\n",
      " 0.15\n",
      "  0.0\n",
      "  ...\n",
      " -0.1\n",
      "  0.1\n",
      "-0.05\n",
      " -0.1\n",
      "  0.0\n",
      "  0.0\n",
      "-0.05\n",
      " 0.05\n",
      "-0.05\n",
      "-0.05\n",
      "  0.0\n",
      "Length = 57791 rows\n"
     ]
    }
   ],
   "source": [
    "#%matplotlib\n",
    "for i, key in enumerate(f.keys()):\n",
    "    summary = Table.read(filename, path=key)\n",
    "    print(len(summary), summary.dtype)\n",
    "    print(summary[['fieldname','fieldid']])\n",
    "    Plot_Parameters('hh',12,summary, 0)\n",
    "    print(summary['Color'])"
   ]
  },
  {
   "cell_type": "code",
   "execution_count": 14,
   "metadata": {},
   "outputs": [],
   "source": [
    "import healpy as hp"
   ]
  },
  {
   "cell_type": "code",
   "execution_count": 15,
   "metadata": {},
   "outputs": [
    {
     "name": "stdout",
     "output_type": "stream",
     "text": [
      "Using matplotlib backend: Qt5Agg\n"
     ]
    }
   ],
   "source": [
    "%matplotlib\n",
    "nside = 64\n",
    "npix = hp.nside2npix(nside)\n",
    "hpxmap = np.zeros(npix, dtype=np.float)\n",
    "    \n",
    "for fieldid in np.unique(summary['fieldid']):\n",
    "    idx = summary['fieldid'] == fieldid\n",
    "    sel = summary[idx]\n",
    "    hpxmap[sel['fieldid']] += len(sel)\n",
    "    \n",
    "cmap = plt.cm.jet\n",
    "cmap.set_under('w')\n",
    "\n",
    "hp.mollview(hpxmap, min=2,cmap=cmap, title='NSN generated') #remove max=200 and norm='hist' to get the DDFs\n",
    "    "
   ]
  },
  {
   "cell_type": "code",
   "execution_count": null,
   "metadata": {},
   "outputs": [],
   "source": []
  }
 ],
 "metadata": {
  "kernelspec": {
   "display_name": "Python 3",
   "language": "python",
   "name": "python3"
  },
  "language_info": {
   "codemirror_mode": {
    "name": "ipython",
    "version": 3
   },
   "file_extension": ".py",
   "mimetype": "text/x-python",
   "name": "python",
   "nbconvert_exporter": "python",
   "pygments_lexer": "ipython3",
   "version": "3.6.2"
  }
 },
 "nbformat": 4,
 "nbformat_minor": 2
}
